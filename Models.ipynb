{
 "cells": [
  {
   "cell_type": "markdown",
   "metadata": {},
   "source": [
    "# Models"
   ]
  },
  {
   "cell_type": "markdown",
   "metadata": {},
   "source": [
    "**In this notebook, we will proceed to compare models to find the best win probability model then build sub models to answer our research question: ** *Does the importance of a given event depend on the time left in the game?*"
   ]
  },
  {
   "cell_type": "code",
   "execution_count": 4,
   "metadata": {
    "collapsed": true
   },
   "outputs": [],
   "source": [
    "import numpy as np\n",
    "import pandas as pd\n",
    "import matplotlib\n",
    "import matplotlib.pyplot as plt\n",
    "from sklearn.linear_model import LogisticRegressionCV\n",
    "import sklearn.metrics as metrics\n",
    "from sklearn.preprocessing import PolynomialFeatures\n",
    "import seaborn.apionly as sns\n",
    "from sklearn.model_selection import cross_val_score\n",
    "from sklearn.tree import export_graphviz\n",
    "from IPython.display import Image\n",
    "from IPython.display import display\n",
    "from matplotlib  import cm\n",
    "from sklearn.metrics import accuracy_score\n",
    "from sklearn import preprocessing\n",
    "from sklearn.linear_model import LogisticRegression\n",
    "%matplotlib inline\n",
    "import warnings\n",
    "warnings.filterwarnings(action='once')"
   ]
  },
  {
   "cell_type": "code",
   "execution_count": 19,
   "metadata": {},
   "outputs": [],
   "source": [
    "# import scraped data\n",
    "pbp = pd.read_csv(\"pbp.csv\")\n",
    "pbp = pbp.iloc[:,1:]"
   ]
  },
  {
   "cell_type": "code",
   "execution_count": 23,
   "metadata": {},
   "outputs": [
    {
     "data": {
      "text/html": [
       "<div>\n",
       "<style>\n",
       "    .dataframe thead tr:only-child th {\n",
       "        text-align: right;\n",
       "    }\n",
       "\n",
       "    .dataframe thead th {\n",
       "        text-align: left;\n",
       "    }\n",
       "\n",
       "    .dataframe tbody tr th {\n",
       "        vertical-align: top;\n",
       "    }\n",
       "</style>\n",
       "<table border=\"1\" class=\"dataframe\">\n",
       "  <thead>\n",
       "    <tr style=\"text-align: right;\">\n",
       "      <th></th>\n",
       "      <th>awayteam</th>\n",
       "      <th>hometeam</th>\n",
       "      <th>event</th>\n",
       "      <th>isawayevent</th>\n",
       "      <th>awayscore</th>\n",
       "      <th>homescore</th>\n",
       "      <th>quarter</th>\n",
       "      <th>gameID</th>\n",
       "      <th>isAssist</th>\n",
       "      <th>isOffRebound</th>\n",
       "      <th>...</th>\n",
       "      <th>isFT</th>\n",
       "      <th>isMade</th>\n",
       "      <th>isMissed</th>\n",
       "      <th>isTurnover</th>\n",
       "      <th>shotDistance</th>\n",
       "      <th>awayRun</th>\n",
       "      <th>awayLead</th>\n",
       "      <th>minutesRemaining</th>\n",
       "      <th>points_on_play</th>\n",
       "      <th>AWAY_WIN</th>\n",
       "    </tr>\n",
       "  </thead>\n",
       "  <tbody>\n",
       "    <tr>\n",
       "      <th>0</th>\n",
       "      <td>Boston</td>\n",
       "      <td>Cleveland</td>\n",
       "      <td>Start of 1st quarter</td>\n",
       "      <td>1</td>\n",
       "      <td>2</td>\n",
       "      <td>0</td>\n",
       "      <td>1</td>\n",
       "      <td>0</td>\n",
       "      <td>0</td>\n",
       "      <td>0</td>\n",
       "      <td>...</td>\n",
       "      <td>0</td>\n",
       "      <td>0</td>\n",
       "      <td>0</td>\n",
       "      <td>0</td>\n",
       "      <td>0</td>\n",
       "      <td>0</td>\n",
       "      <td>2</td>\n",
       "      <td>48.000000</td>\n",
       "      <td>0</td>\n",
       "      <td>0</td>\n",
       "    </tr>\n",
       "    <tr>\n",
       "      <th>1</th>\n",
       "      <td>Boston</td>\n",
       "      <td>Cleveland</td>\n",
       "      <td>Jump ball: K. Love vs. A. Horford (K. Irving g...</td>\n",
       "      <td>1</td>\n",
       "      <td>2</td>\n",
       "      <td>0</td>\n",
       "      <td>1</td>\n",
       "      <td>0</td>\n",
       "      <td>0</td>\n",
       "      <td>0</td>\n",
       "      <td>...</td>\n",
       "      <td>0</td>\n",
       "      <td>0</td>\n",
       "      <td>0</td>\n",
       "      <td>0</td>\n",
       "      <td>0</td>\n",
       "      <td>0</td>\n",
       "      <td>2</td>\n",
       "      <td>48.000000</td>\n",
       "      <td>0</td>\n",
       "      <td>0</td>\n",
       "    </tr>\n",
       "    <tr>\n",
       "      <th>2</th>\n",
       "      <td>Boston</td>\n",
       "      <td>Cleveland</td>\n",
       "      <td>K. Irving makes 2-pt shot from 10 ft (assist b...</td>\n",
       "      <td>1</td>\n",
       "      <td>2</td>\n",
       "      <td>0</td>\n",
       "      <td>1</td>\n",
       "      <td>0</td>\n",
       "      <td>1</td>\n",
       "      <td>0</td>\n",
       "      <td>...</td>\n",
       "      <td>0</td>\n",
       "      <td>1</td>\n",
       "      <td>0</td>\n",
       "      <td>0</td>\n",
       "      <td>10</td>\n",
       "      <td>2</td>\n",
       "      <td>2</td>\n",
       "      <td>47.733333</td>\n",
       "      <td>2</td>\n",
       "      <td>0</td>\n",
       "    </tr>\n",
       "    <tr>\n",
       "      <th>3</th>\n",
       "      <td>Boston</td>\n",
       "      <td>Cleveland</td>\n",
       "      <td>D. Rose misses 2-pt shot from 1 ft (block by A...</td>\n",
       "      <td>0</td>\n",
       "      <td>2</td>\n",
       "      <td>0</td>\n",
       "      <td>1</td>\n",
       "      <td>0</td>\n",
       "      <td>0</td>\n",
       "      <td>0</td>\n",
       "      <td>...</td>\n",
       "      <td>0</td>\n",
       "      <td>0</td>\n",
       "      <td>1</td>\n",
       "      <td>0</td>\n",
       "      <td>1</td>\n",
       "      <td>2</td>\n",
       "      <td>2</td>\n",
       "      <td>47.450000</td>\n",
       "      <td>0</td>\n",
       "      <td>0</td>\n",
       "    </tr>\n",
       "    <tr>\n",
       "      <th>4</th>\n",
       "      <td>Boston</td>\n",
       "      <td>Cleveland</td>\n",
       "      <td>Defensive rebound by A. Horford</td>\n",
       "      <td>1</td>\n",
       "      <td>2</td>\n",
       "      <td>0</td>\n",
       "      <td>1</td>\n",
       "      <td>0</td>\n",
       "      <td>0</td>\n",
       "      <td>0</td>\n",
       "      <td>...</td>\n",
       "      <td>0</td>\n",
       "      <td>0</td>\n",
       "      <td>0</td>\n",
       "      <td>0</td>\n",
       "      <td>0</td>\n",
       "      <td>2</td>\n",
       "      <td>2</td>\n",
       "      <td>47.383333</td>\n",
       "      <td>0</td>\n",
       "      <td>0</td>\n",
       "    </tr>\n",
       "  </tbody>\n",
       "</table>\n",
       "<p>5 rows × 23 columns</p>\n",
       "</div>"
      ],
      "text/plain": [
       "  awayteam   hometeam                                              event  \\\n",
       "0   Boston  Cleveland                               Start of 1st quarter   \n",
       "1   Boston  Cleveland  Jump ball: K. Love vs. A. Horford (K. Irving g...   \n",
       "2   Boston  Cleveland  K. Irving makes 2-pt shot from 10 ft (assist b...   \n",
       "3   Boston  Cleveland  D. Rose misses 2-pt shot from 1 ft (block by A...   \n",
       "4   Boston  Cleveland                    Defensive rebound by A. Horford   \n",
       "\n",
       "   isawayevent  awayscore  homescore  quarter  gameID  isAssist  isOffRebound  \\\n",
       "0            1          2          0        1       0         0             0   \n",
       "1            1          2          0        1       0         0             0   \n",
       "2            1          2          0        1       0         1             0   \n",
       "3            0          2          0        1       0         0             0   \n",
       "4            1          2          0        1       0         0             0   \n",
       "\n",
       "     ...     isFT  isMade  isMissed  isTurnover  shotDistance  awayRun  \\\n",
       "0    ...        0       0         0           0             0        0   \n",
       "1    ...        0       0         0           0             0        0   \n",
       "2    ...        0       1         0           0            10        2   \n",
       "3    ...        0       0         1           0             1        2   \n",
       "4    ...        0       0         0           0             0        2   \n",
       "\n",
       "   awayLead  minutesRemaining  points_on_play  AWAY_WIN  \n",
       "0         2         48.000000               0         0  \n",
       "1         2         48.000000               0         0  \n",
       "2         2         47.733333               2         0  \n",
       "3         2         47.450000               0         0  \n",
       "4         2         47.383333               0         0  \n",
       "\n",
       "[5 rows x 23 columns]"
      ]
     },
     "execution_count": 23,
     "metadata": {},
     "output_type": "execute_result"
    }
   ],
   "source": [
    "pbp.head()"
   ]
  },
  {
   "cell_type": "code",
   "execution_count": 60,
   "metadata": {},
   "outputs": [
    {
     "data": {
      "text/plain": [
       "['isawayevent',\n",
       " 'awayscore',\n",
       " 'homescore',\n",
       " 'quarter',\n",
       " 'isOffRebound',\n",
       " 'isDefRebound',\n",
       " 'is3ptShot',\n",
       " 'is2ptShot',\n",
       " 'isFT',\n",
       " 'isMade',\n",
       " 'isMissed',\n",
       " 'isTurnover',\n",
       " 'shotDistance',\n",
       " 'awayRun',\n",
       " 'awayLead',\n",
       " 'minutesRemaining',\n",
       " 'points_on_play']"
      ]
     },
     "execution_count": 60,
     "metadata": {},
     "output_type": "execute_result"
    }
   ],
   "source": [
    "# grab the relevant columns for model building\n",
    "list1, list2 = list(pbp.columns[3:7]), list(pbp.columns[9:-1])\n",
    "var = list1+list2\n",
    "var"
   ]
  },
  {
   "cell_type": "code",
   "execution_count": 53,
   "metadata": {},
   "outputs": [
    {
     "name": "stdout",
     "output_type": "stream",
     "text": [
      "Logistic Regression Win Probability Model Train Accuracy:  0.738133751201\n",
      "\n",
      "Logistic Regression Win Probability Model Test Accuracy:  0.735403820448\n"
     ]
    }
   ],
   "source": [
    "# Baseline Logistic Model\n",
    "\n",
    "msk = np.random.rand(len(pbp)) < 0.3\n",
    "data_train = pbp[msk]\n",
    "data_test = pbp[~msk]\n",
    "\n",
    "logit_model = LogisticRegression()\n",
    "logit_model.fit(data_train[var],data_train.AWAY_WIN)\n",
    "\n",
    "print(\"Logistic Regression Win Probability Model Train Accuracy: \", logit_model.score(data_train[var], data_train.AWAY_WIN))\n",
    "print(\"\\nLogistic Regression Win Probability Model Test Accuracy: \", logit_model.score(data_test[var], data_test.AWAY_WIN))"
   ]
  },
  {
   "cell_type": "markdown",
   "metadata": {},
   "source": [
    "**These accuracies are quite good considering we are predicting on a play by play level of detail. In a game where lead changes and runs are common, the model is able to predict with over 70% accuracy. Our hypothesis is that the other 30% relates to occasions where the losing team does especially well during parts of the game.**"
   ]
  },
  {
   "cell_type": "code",
   "execution_count": 54,
   "metadata": {
    "collapsed": true
   },
   "outputs": [],
   "source": [
    "# prediction probabilities\n",
    "pp = np.array(logit_model.predict_proba(pbp[var]))\n",
    "# data for win probability viz\n",
    "csvfile = {\"gameID\" : pbp.gameID, \"min_rem\" : pbp.minutesRemaining, \"pp\": pp[:,1], \"away\" : pbp.awayscore, \n",
    "           \"home\" : pbp.homescore, \"run\" : pbp.awayLead}\n",
    "pd.DataFrame(csvfile).to_csv('LogitPP.csv')"
   ]
  },
  {
   "cell_type": "code",
   "execution_count": 55,
   "metadata": {},
   "outputs": [
    {
     "name": "stdout",
     "output_type": "stream",
     "text": [
      "[0]\teval-auc:0.814617\ttrain-auc:0.81752\n",
      "[1]\teval-auc:0.817912\ttrain-auc:0.821475\n",
      "[2]\teval-auc:0.820351\ttrain-auc:0.824788\n",
      "[3]\teval-auc:0.822256\ttrain-auc:0.827265\n",
      "[4]\teval-auc:0.823528\ttrain-auc:0.829802\n",
      "[5]\teval-auc:0.826299\ttrain-auc:0.834559\n",
      "[6]\teval-auc:0.826615\ttrain-auc:0.83642\n",
      "[7]\teval-auc:0.826925\ttrain-auc:0.838189\n",
      "[8]\teval-auc:0.827964\ttrain-auc:0.841476\n",
      "[9]\teval-auc:0.829735\ttrain-auc:0.844886\n",
      "\n",
      "XGBoost Test Accuracy: 74.26%\n",
      "\n",
      "XGBoost Train Accuracy: 75.52%\n"
     ]
    }
   ],
   "source": [
    "#XGBoost Model\n",
    "\n",
    "import xgboost as xgb\n",
    "data_tot = xgb.DMatrix(pbp[var], label=pbp.AWAY_WIN)\n",
    "dtrain = xgb.DMatrix(data_train[var], label=data_train.AWAY_WIN)\n",
    "dtest = xgb.DMatrix(data_test[var], label=data_test.AWAY_WIN)\n",
    "param = {'max_depth': 5, 'eta': 1, 'silent': 1, 'objective': 'binary:logistic'}\n",
    "param['nthread'] = 4\n",
    "param['eval_metric'] = 'auc'\n",
    "num_round = 10\n",
    "evallist = [(dtest, 'eval'), (dtrain, 'train')]\n",
    "bst = xgb.train(param, dtrain, num_round, evallist)\n",
    "\n",
    "ypred = bst.predict(dtest)\n",
    "predictions = [round(value) for value in ypred]\n",
    "accuracy = accuracy_score(data_test.AWAY_WIN, predictions)\n",
    "print(\"\\nXGBoost Test Accuracy: %.2f%%\" % (accuracy * 100.0))\n",
    "\n",
    "ypred = bst.predict(dtrain)\n",
    "predictions = [round(value) for value in ypred]\n",
    "accuracy = accuracy_score(data_train.AWAY_WIN, predictions)\n",
    "print(\"\\nXGBoost Train Accuracy: %.2f%%\" % (accuracy * 100.0))\n"
   ]
  },
  {
   "cell_type": "code",
   "execution_count": 56,
   "metadata": {},
   "outputs": [
    {
     "data": {
      "text/plain": [
       "<matplotlib.axes._subplots.AxesSubplot at 0x10e5aef98>"
      ]
     },
     "execution_count": 56,
     "metadata": {},
     "output_type": "execute_result"
    },
    {
     "data": {
      "image/png": "[encoded data removed]",
      "text/plain": [
       "<matplotlib.figure.Figure at 0x110c72518>"
      ]
     },
     "metadata": {},
     "output_type": "display_data"
    }
   ],
   "source": [
    "xgb.plot_importance(bst)"
   ]
  },
  {
   "cell_type": "code",
   "execution_count": null,
   "metadata": {
    "collapsed": true
   },
   "outputs": [],
   "source": []
  }
 ],
 "metadata": {
  "kernelspec": {
   "display_name": "Python [conda root]",
   "language": "python",
   "name": "conda-root-py"
  },
  "language_info": {
   "codemirror_mode": {
    "name": "ipython",
    "version": 3
   },
   "file_extension": ".py",
   "mimetype": "text/x-python",
   "name": "python",
   "nbconvert_exporter": "python",
   "pygments_lexer": "ipython3",
   "version": "3.6.1"
  }
 },
 "nbformat": 4,
 "nbformat_minor": 2
}
