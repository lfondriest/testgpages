{
 "cells": [
  {
   "cell_type": "markdown",
   "metadata": {},
   "source": [
    "# Problem Statement"
   ]
  },
  {
   "cell_type": "markdown",
   "metadata": {},
   "source": [
    "In this report, we were tasked with building a win probability model for NBA games based on play by play data available online. To accomplish this, we scraped data from Basketball Reference, engineered predictor variables, built several win probability models, and explored a research question inspired by our EDA."
   ]
  },
  {
   "cell_type": "markdown",
   "metadata": {},
   "source": [
    "# Research Question"
   ]
  },
  {
   "cell_type": "markdown",
   "metadata": {},
   "source": [
    "Since our win probability model will able to produce variable importances, it would be interesting to observe the differences in importance for each event type, i.e. 3pt shot, 2pt shot, turnover, etc. **More interesting would be observing these differences over time. Thus we will start by making four separate models, one per quarter, then potentially cutting down the game into finer sections to observe the relative importance of events over time.** For example, are turnovers more important near the end of the game? Are 3pt shots always the most important variable, if at all? Are Offensive Rebounds the key to success? These are questions that the variable importance plots can answer for us."
   ]
  }
 ],
 "metadata": {
  "kernelspec": {
   "display_name": "Python 3",
   "language": "python",
   "name": "python3"
  },
  "language_info": {
   "codemirror_mode": {
    "name": "ipython",
    "version": 3
   },
   "file_extension": ".py",
   "mimetype": "text/x-python",
   "name": "python",
   "nbconvert_exporter": "python",
   "pygments_lexer": "ipython3",
   "version": "3.6.1"
  }
 },
 "nbformat": 4,
 "nbformat_minor": 2
}
