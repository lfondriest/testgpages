{
 "cells": [
  {
   "cell_type": "markdown",
   "metadata": {},
   "source": [
    "# EDA"
   ]
  },
  {
   "cell_type": "markdown",
   "metadata": {},
   "source": [
    "**In this notebook, we will explore the data by creating different sorts of visualizations of the play by play data. The goal is to find variables which would be interesting for our win probability model.**"
   ]
  },
  {
   "cell_type": "code",
   "execution_count": 1,
   "metadata": {
    "collapsed": true
   },
   "outputs": [],
   "source": [
    "import numpy as np\n",
    "import pandas as pd\n",
    "import matplotlib\n",
    "import matplotlib.pyplot as plt\n",
    "from sklearn.linear_model import LogisticRegressionCV\n",
    "import sklearn.metrics as metrics\n",
    "from sklearn.preprocessing import PolynomialFeatures\n",
    "import seaborn.apionly as sns\n",
    "from sklearn.model_selection import cross_val_score\n",
    "from sklearn.tree import export_graphviz\n",
    "from IPython.display import Image\n",
    "from IPython.display import display\n",
    "from matplotlib  import cm\n",
    "from sklearn.metrics import accuracy_score\n",
    "from sklearn import preprocessing\n",
    "from sklearn.linear_model import LogisticRegression\n",
    "%matplotlib inline\n",
    "import warnings\n",
    "warnings.filterwarnings(action='once')"
   ]
  },
  {
   "cell_type": "code",
   "execution_count": 3,
   "metadata": {},
   "outputs": [],
   "source": [
    "# import scraped data\n",
    "pbp = pd.read_csv(\"pbp.csv\")\n",
    "pbp = pbp.iloc[:,1:]"
   ]
  },
  {
   "cell_type": "code",
   "execution_count": 8,
   "metadata": {},
   "outputs": [
    {
     "data": {
      "text/html": [
       "<div>\n",
       "<style>\n",
       "    .dataframe thead tr:only-child th {\n",
       "        text-align: right;\n",
       "    }\n",
       "\n",
       "    .dataframe thead th {\n",
       "        text-align: left;\n",
       "    }\n",
       "\n",
       "    .dataframe tbody tr th {\n",
       "        vertical-align: top;\n",
       "    }\n",
       "</style>\n",
       "<table border=\"1\" class=\"dataframe\">\n",
       "  <thead>\n",
       "    <tr style=\"text-align: right;\">\n",
       "      <th></th>\n",
       "      <th>isawayevent</th>\n",
       "      <th>awayscore</th>\n",
       "      <th>homescore</th>\n",
       "      <th>quarter</th>\n",
       "      <th>gameID</th>\n",
       "      <th>isAssist</th>\n",
       "      <th>isOffRebound</th>\n",
       "      <th>isDefRebound</th>\n",
       "      <th>is3ptShot</th>\n",
       "      <th>is2ptShot</th>\n",
       "      <th>isFT</th>\n",
       "      <th>isMade</th>\n",
       "      <th>isMissed</th>\n",
       "      <th>isTurnover</th>\n",
       "      <th>shotDistance</th>\n",
       "      <th>awayRun</th>\n",
       "      <th>awayLead</th>\n",
       "      <th>minutesRemaining</th>\n",
       "      <th>points_on_play</th>\n",
       "      <th>AWAY_WIN</th>\n",
       "    </tr>\n",
       "  </thead>\n",
       "  <tbody>\n",
       "    <tr>\n",
       "      <th>count</th>\n",
       "      <td>132330.000000</td>\n",
       "      <td>132330.000000</td>\n",
       "      <td>132330.000000</td>\n",
       "      <td>132330.000000</td>\n",
       "      <td>132330.000000</td>\n",
       "      <td>132330.000000</td>\n",
       "      <td>132330.000000</td>\n",
       "      <td>132330.000000</td>\n",
       "      <td>132330.000000</td>\n",
       "      <td>132330.000000</td>\n",
       "      <td>132330.000000</td>\n",
       "      <td>132330.000000</td>\n",
       "      <td>132330.000000</td>\n",
       "      <td>132330.000000</td>\n",
       "      <td>132330.000000</td>\n",
       "      <td>132330.000000</td>\n",
       "      <td>132330.000000</td>\n",
       "      <td>132330.000000</td>\n",
       "      <td>132330.000000</td>\n",
       "      <td>132330.000000</td>\n",
       "    </tr>\n",
       "    <tr>\n",
       "      <th>mean</th>\n",
       "      <td>0.508297</td>\n",
       "      <td>53.179869</td>\n",
       "      <td>54.482695</td>\n",
       "      <td>2.521930</td>\n",
       "      <td>142.814555</td>\n",
       "      <td>0.097695</td>\n",
       "      <td>0.068118</td>\n",
       "      <td>0.157666</td>\n",
       "      <td>0.126185</td>\n",
       "      <td>0.246921</td>\n",
       "      <td>0.096599</td>\n",
       "      <td>0.243890</td>\n",
       "      <td>0.225814</td>\n",
       "      <td>0.003212</td>\n",
       "      <td>4.945175</td>\n",
       "      <td>-0.112454</td>\n",
       "      <td>-1.302826</td>\n",
       "      <td>23.349436</td>\n",
       "      <td>0.459284</td>\n",
       "      <td>0.424998</td>\n",
       "    </tr>\n",
       "    <tr>\n",
       "      <th>std</th>\n",
       "      <td>0.499933</td>\n",
       "      <td>31.388282</td>\n",
       "      <td>32.029916</td>\n",
       "      <td>1.118093</td>\n",
       "      <td>83.357931</td>\n",
       "      <td>0.296903</td>\n",
       "      <td>0.251949</td>\n",
       "      <td>0.364429</td>\n",
       "      <td>0.332058</td>\n",
       "      <td>0.431222</td>\n",
       "      <td>0.295413</td>\n",
       "      <td>0.429429</td>\n",
       "      <td>0.418119</td>\n",
       "      <td>0.056581</td>\n",
       "      <td>9.027741</td>\n",
       "      <td>3.971640</td>\n",
       "      <td>11.214979</td>\n",
       "      <td>13.877395</td>\n",
       "      <td>0.877616</td>\n",
       "      <td>0.494345</td>\n",
       "    </tr>\n",
       "    <tr>\n",
       "      <th>min</th>\n",
       "      <td>0.000000</td>\n",
       "      <td>0.000000</td>\n",
       "      <td>0.000000</td>\n",
       "      <td>1.000000</td>\n",
       "      <td>0.000000</td>\n",
       "      <td>0.000000</td>\n",
       "      <td>0.000000</td>\n",
       "      <td>0.000000</td>\n",
       "      <td>0.000000</td>\n",
       "      <td>0.000000</td>\n",
       "      <td>0.000000</td>\n",
       "      <td>0.000000</td>\n",
       "      <td>0.000000</td>\n",
       "      <td>0.000000</td>\n",
       "      <td>0.000000</td>\n",
       "      <td>-28.000000</td>\n",
       "      <td>-49.000000</td>\n",
       "      <td>0.000000</td>\n",
       "      <td>0.000000</td>\n",
       "      <td>0.000000</td>\n",
       "    </tr>\n",
       "    <tr>\n",
       "      <th>25%</th>\n",
       "      <td>0.000000</td>\n",
       "      <td>26.000000</td>\n",
       "      <td>27.000000</td>\n",
       "      <td>2.000000</td>\n",
       "      <td>70.000000</td>\n",
       "      <td>0.000000</td>\n",
       "      <td>0.000000</td>\n",
       "      <td>0.000000</td>\n",
       "      <td>0.000000</td>\n",
       "      <td>0.000000</td>\n",
       "      <td>0.000000</td>\n",
       "      <td>0.000000</td>\n",
       "      <td>0.000000</td>\n",
       "      <td>0.000000</td>\n",
       "      <td>0.000000</td>\n",
       "      <td>-3.000000</td>\n",
       "      <td>-8.000000</td>\n",
       "      <td>11.433333</td>\n",
       "      <td>0.000000</td>\n",
       "      <td>0.000000</td>\n",
       "    </tr>\n",
       "    <tr>\n",
       "      <th>50%</th>\n",
       "      <td>1.000000</td>\n",
       "      <td>52.000000</td>\n",
       "      <td>54.000000</td>\n",
       "      <td>3.000000</td>\n",
       "      <td>143.000000</td>\n",
       "      <td>0.000000</td>\n",
       "      <td>0.000000</td>\n",
       "      <td>0.000000</td>\n",
       "      <td>0.000000</td>\n",
       "      <td>0.000000</td>\n",
       "      <td>0.000000</td>\n",
       "      <td>0.000000</td>\n",
       "      <td>0.000000</td>\n",
       "      <td>0.000000</td>\n",
       "      <td>0.000000</td>\n",
       "      <td>-1.000000</td>\n",
       "      <td>-1.000000</td>\n",
       "      <td>23.733333</td>\n",
       "      <td>0.000000</td>\n",
       "      <td>0.000000</td>\n",
       "    </tr>\n",
       "    <tr>\n",
       "      <th>75%</th>\n",
       "      <td>1.000000</td>\n",
       "      <td>79.000000</td>\n",
       "      <td>81.000000</td>\n",
       "      <td>4.000000</td>\n",
       "      <td>215.000000</td>\n",
       "      <td>0.000000</td>\n",
       "      <td>0.000000</td>\n",
       "      <td>0.000000</td>\n",
       "      <td>0.000000</td>\n",
       "      <td>0.000000</td>\n",
       "      <td>0.000000</td>\n",
       "      <td>0.000000</td>\n",
       "      <td>0.000000</td>\n",
       "      <td>0.000000</td>\n",
       "      <td>4.000000</td>\n",
       "      <td>2.000000</td>\n",
       "      <td>5.000000</td>\n",
       "      <td>35.466667</td>\n",
       "      <td>0.000000</td>\n",
       "      <td>1.000000</td>\n",
       "    </tr>\n",
       "    <tr>\n",
       "      <th>max</th>\n",
       "      <td>1.000000</td>\n",
       "      <td>142.000000</td>\n",
       "      <td>146.000000</td>\n",
       "      <td>4.000000</td>\n",
       "      <td>288.000000</td>\n",
       "      <td>1.000000</td>\n",
       "      <td>1.000000</td>\n",
       "      <td>1.000000</td>\n",
       "      <td>1.000000</td>\n",
       "      <td>1.000000</td>\n",
       "      <td>1.000000</td>\n",
       "      <td>1.000000</td>\n",
       "      <td>1.000000</td>\n",
       "      <td>1.000000</td>\n",
       "      <td>86.000000</td>\n",
       "      <td>19.000000</td>\n",
       "      <td>58.000000</td>\n",
       "      <td>48.000000</td>\n",
       "      <td>3.000000</td>\n",
       "      <td>1.000000</td>\n",
       "    </tr>\n",
       "  </tbody>\n",
       "</table>\n",
       "</div>"
      ],
      "text/plain": [
       "         isawayevent      awayscore      homescore        quarter  \\\n",
       "count  132330.000000  132330.000000  132330.000000  132330.000000   \n",
       "mean        0.508297      53.179869      54.482695       2.521930   \n",
       "std         0.499933      31.388282      32.029916       1.118093   \n",
       "min         0.000000       0.000000       0.000000       1.000000   \n",
       "25%         0.000000      26.000000      27.000000       2.000000   \n",
       "50%         1.000000      52.000000      54.000000       3.000000   \n",
       "75%         1.000000      79.000000      81.000000       4.000000   \n",
       "max         1.000000     142.000000     146.000000       4.000000   \n",
       "\n",
       "              gameID       isAssist   isOffRebound   isDefRebound  \\\n",
       "count  132330.000000  132330.000000  132330.000000  132330.000000   \n",
       "mean      142.814555       0.097695       0.068118       0.157666   \n",
       "std        83.357931       0.296903       0.251949       0.364429   \n",
       "min         0.000000       0.000000       0.000000       0.000000   \n",
       "25%        70.000000       0.000000       0.000000       0.000000   \n",
       "50%       143.000000       0.000000       0.000000       0.000000   \n",
       "75%       215.000000       0.000000       0.000000       0.000000   \n",
       "max       288.000000       1.000000       1.000000       1.000000   \n",
       "\n",
       "           is3ptShot      is2ptShot           isFT         isMade  \\\n",
       "count  132330.000000  132330.000000  132330.000000  132330.000000   \n",
       "mean        0.126185       0.246921       0.096599       0.243890   \n",
       "std         0.332058       0.431222       0.295413       0.429429   \n",
       "min         0.000000       0.000000       0.000000       0.000000   \n",
       "25%         0.000000       0.000000       0.000000       0.000000   \n",
       "50%         0.000000       0.000000       0.000000       0.000000   \n",
       "75%         0.000000       0.000000       0.000000       0.000000   \n",
       "max         1.000000       1.000000       1.000000       1.000000   \n",
       "\n",
       "            isMissed     isTurnover   shotDistance        awayRun  \\\n",
       "count  132330.000000  132330.000000  132330.000000  132330.000000   \n",
       "mean        0.225814       0.003212       4.945175      -0.112454   \n",
       "std         0.418119       0.056581       9.027741       3.971640   \n",
       "min         0.000000       0.000000       0.000000     -28.000000   \n",
       "25%         0.000000       0.000000       0.000000      -3.000000   \n",
       "50%         0.000000       0.000000       0.000000      -1.000000   \n",
       "75%         0.000000       0.000000       4.000000       2.000000   \n",
       "max         1.000000       1.000000      86.000000      19.000000   \n",
       "\n",
       "            awayLead  minutesRemaining  points_on_play       AWAY_WIN  \n",
       "count  132330.000000     132330.000000   132330.000000  132330.000000  \n",
       "mean       -1.302826         23.349436        0.459284       0.424998  \n",
       "std        11.214979         13.877395        0.877616       0.494345  \n",
       "min       -49.000000          0.000000        0.000000       0.000000  \n",
       "25%        -8.000000         11.433333        0.000000       0.000000  \n",
       "50%        -1.000000         23.733333        0.000000       0.000000  \n",
       "75%         5.000000         35.466667        0.000000       1.000000  \n",
       "max        58.000000         48.000000        3.000000       1.000000  "
      ]
     },
     "execution_count": 8,
     "metadata": {},
     "output_type": "execute_result"
    }
   ],
   "source": [
    "pbp.describe()"
   ]
  },
  {
   "cell_type": "markdown",
   "metadata": {},
   "source": [
    "## EDA Findings\n",
    "- The mean value for Offensive Rebounds compared to Defensive Rebounds is 0.0681 and 0.1576 respectively. This tells us that Offensive Rebounds are much less common than Defensive Rebounds. Perhaps this will be an important factor in the model given that offensive rebounds lead to more scoring opportunities.\n",
    "- We can see that the mean value for 3pt and 2pt shots respectively are 0.1262 and 0.2469 showing that 3pt attempts are half as likely as 2pt shots, i.e. one third of shot attempts are 3pt shots.\n",
    "- Another interesting find is that the average shot distance is 14.5 ft with a standard deviation of 10 ft. \n",
    "- Additionally, we can see that 40% of shots made were assisted. When looking at made shots exclusively, we see that 51% are 2pt shots, 18.6% are 3pt shots, and 30.4% are free throws. On the other hand, looking at misses exclusively, we see that 54.3% of missed shots are 2pt, 35.7% are 3pt, and 10% are free throws\n",
    "- We also noted that the average away lead is -1.3 suggesting that the home team leads on average during the play by play calls. This works with away win percentage, 42.76%, suggesting that the away not only trails the home team on average but they also win less than 50% of the team.\n",
    "- On average, the points per shot is 1 as expected. This suggests that teams are hitting 2pt shots with 50% accuracy typically and 3pt shots with 33% accuracy. See below for a comparison per team.\n"
   ]
  },
  {
   "cell_type": "code",
   "execution_count": 4,
   "metadata": {},
   "outputs": [
    {
     "data": {
      "text/plain": [
       "<matplotlib.text.Text at 0x1131cd0f0>"
      ]
     },
     "execution_count": 4,
     "metadata": {},
     "output_type": "execute_result"
    },
    {
     "data": {
      "image/png": "[encoded data removed]",
      "text/plain": [
       "<matplotlib.figure.Figure at 0x116c7d278>"
      ]
     },
     "metadata": {},
     "output_type": "display_data"
    }
   ],
   "source": [
    "fig, ax = plt.subplots(1,1,figsize=(15,5))\n",
    "made = pbp[(pbp['isMade'] == 1) & (pbp['isFT'] == 0) & (pbp['shotDistance'] < 35)]\n",
    "missed = pbp[(pbp['isMissed'] == 1) & (pbp['isFT'] == 0) & (pbp['shotDistance'] < 35)]\n",
    "made['shotDistance'].hist(bins=35, figsize=[14,6], color='red', label='Made Shot')\n",
    "missed['shotDistance'].hist(bins=35, figsize=[14,6], alpha=0.2, color='blue', label=\"Missed Shot\")\n",
    "ax.legend(loc='best')\n",
    "ax.grid(False)\n",
    "ax.set_xlim(-1,35)\n",
    "plt.title(\"Made vs. Missed Shots by Distance\")"
   ]
  },
  {
   "cell_type": "markdown",
   "metadata": {},
   "source": [
    "**This plot shows us that shots around the rim are higher in conversion rate than distant shots, however they are attempted with similar rates. **"
   ]
  },
  {
   "cell_type": "code",
   "execution_count": 6,
   "metadata": {},
   "outputs": [
    {
     "data": {
      "image/png": "[encoded data removed]",
      "text/plain": [
       "<matplotlib.figure.Figure at 0x1162cd128>"
      ]
     },
     "metadata": {},
     "output_type": "display_data"
    }
   ],
   "source": [
    "fig, ax = plt.subplots(1,1,figsize=(15,5))\n",
    "teams = pbp.awayteam.unique()\n",
    "teams.sort()\n",
    "y_pos = np.arange(len(teams))\n",
    "avg_home = pbp[(pbp.isawayevent == 0) & ((pbp.isMade == 1) | (pbp.isMissed == 1))].groupby(['hometeam'])['points_on_play'].mean()\n",
    "avg_away = pbp[(pbp.isawayevent == 1) & ((pbp.isMade == 1) | (pbp.isMissed == 1))].groupby(['awayteam'])['points_on_play'].mean()\n",
    "\n",
    "plt.bar(y_pos, avg_home, align='center', alpha=0.5, color='red', label='Home Pts per shot')\n",
    "plt.bar(y_pos, avg_away, align='center', alpha=0.5, color='blue', label='Away Pts per shot')\n",
    "plt.xticks(y_pos, teams)\n",
    "plt.plot((-1, 30), (1, 1), 'black', alpha=0.3)\n",
    "ax.legend(loc='best')\n",
    "ax.set_ylim(0,1.3)\n",
    "plt.title('Average Points Per Shot')\n",
    "for tick in ax.get_xticklabels():\n",
    "    tick.set_rotation(45)"
   ]
  },
  {
   "cell_type": "markdown",
   "metadata": {},
   "source": [
    "**This plot shows which teams out perform the 1pt per shot expected average and shows which teams shoot better home vs away**"
   ]
  },
  {
   "cell_type": "code",
   "execution_count": 7,
   "metadata": {},
   "outputs": [
    {
     "data": {
      "text/plain": [
       "<matplotlib.text.Text at 0x113f968d0>"
      ]
     },
     "execution_count": 7,
     "metadata": {},
     "output_type": "execute_result"
    },
    {
     "data": {
      "image/png": "[encoded data removed]",
      "text/plain": [
       "<matplotlib.figure.Figure at 0x116c7d0b8>"
      ]
     },
     "metadata": {},
     "output_type": "display_data"
    }
   ],
   "source": [
    "fig, ax = plt.subplots(1,1,figsize=(15,5))\n",
    "assisted = pbp[(pbp['isMade'] == 1) & (pbp['isAssist'] == 1) & (pbp['isFT'] == 0)]\n",
    "unassisted = pbp[(pbp['isMade'] == 1) & (pbp['isAssist'] == 0) & (pbp['isFT'] == 0)]\n",
    "assisted['minutesRemaining'].hist(bins=48, figsize=[14,6], alpha=0.2, color='red', label='Assisted Basket')\n",
    "unassisted['minutesRemaining'].hist(bins=48, figsize=[14,6], alpha=0.8, color='blue', label=\"Unassisted Basket\")\n",
    "ax.legend(loc='best')\n",
    "ax.grid(False)\n",
    "ax.set_xlim(48,0)\n",
    "plt.title(\"Assisted vs. Unassisted Baskets by Time Remaining\")"
   ]
  },
  {
   "cell_type": "markdown",
   "metadata": {},
   "source": [
    "**This plot gives us a sense of how teams are passing the ball depending on the amount of time left. It appears that players get slightly more selfish near the end of quarters.**"
   ]
  }
 ],
 "metadata": {
  "kernelspec": {
   "display_name": "Python [conda root]",
   "language": "python",
   "name": "conda-root-py"
  },
  "language_info": {
   "codemirror_mode": {
    "name": "ipython",
    "version": 3
   },
   "file_extension": ".py",
   "mimetype": "text/x-python",
   "name": "python",
   "nbconvert_exporter": "python",
   "pygments_lexer": "ipython3",
   "version": "3.6.1"
  }
 },
 "nbformat": 4,
 "nbformat_minor": 2
}
